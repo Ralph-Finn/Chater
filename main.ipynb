{
 "cells": [
  {
   "cell_type": "markdown",
   "id": "1d565915-8c3f-4406-a645-8b7c475e5869",
   "metadata": {},
   "source": [
    "#  运行jupyter主程序"
   ]
  },
  {
   "cell_type": "code",
   "execution_count": null,
   "id": "2eb98b6f-ca48-4181-a975-2fabb7dd8583",
   "metadata": {},
   "outputs": [],
   "source": [
    "# 使用falsk实现文件的传输\n",
    "# 使用基于语料库的简单机器人问答"
   ]
  },
  {
   "cell_type": "code",
   "execution_count": null,
   "id": "19545e0e-e266-41f1-9e5a-6643beb0f035",
   "metadata": {},
   "outputs": [],
   "source": [
    "# # Testing the gTTS package\n",
    "# from gtts import gTTS\n",
    "# tts = gTTS('Good Good Study!')\n",
    "# tts.save('/workspace/Chater/response.mp3')"
   ]
  },
  {
   "cell_type": "code",
   "execution_count": null,
   "id": "05000868-6c80-4369-a6d3-31001bbbe759",
   "metadata": {},
   "outputs": [],
   "source": [
    "# import os\n",
    "# os.path.exists('/workspace/Avatar_proj/4-gtm_demo/results/result_voice.mp4')"
   ]
  },
  {
   "cell_type": "code",
   "execution_count": null,
   "id": "fc4518c4-b601-4f5e-8b87-fc0f29c061ee",
   "metadata": {},
   "outputs": [],
   "source": [
    "# # testing the basic chatbot\n",
    "# import chatbot\n",
    "# chatbot.chat('NLP')"
   ]
  },
  {
   "cell_type": "code",
   "execution_count": null,
   "id": "317915a7-6973-4284-97a9-e72b8e9e0f7d",
   "metadata": {},
   "outputs": [
    {
     "name": "stdout",
     "output_type": "stream",
     "text": [
      "/workspace/Chater/StyleSpeech\n",
      "cpu\n",
      "model is prepared\n",
      "Using cache found in /root/.cache/torch/hub/descriptinc_melgan-neurips_master\n",
      " * Serving Flask app 'server' (lazy loading)\n",
      " * Environment: production\n",
      "\u001b[31m   WARNING: This is a development server. Do not use it in a production deployment.\u001b[0m\n",
      "\u001b[2m   Use a production WSGI server instead.\u001b[0m\n",
      " * Debug mode: off\n",
      " * Running on all addresses (0.0.0.0)\n",
      "   WARNING: This is a development server. Do not use it in a production deployment.\n",
      " * Running on http://127.0.0.1:8801\n",
      " * Running on http://172.17.0.14:8801 (Press CTRL+C to quit)\n",
      "10.232.104.204 - - [30/May/2022 09:12:14] \"GET /init HTTP/1.1\" 200 -\n",
      "Generate speaker feature........\n",
      "Raw Text Sequence: You have created your personalized chat voice\n",
      "Phoneme Sequence: {Y UW1 HH AE1 V K R IY0 EY1 T AH0 D Y AO1 R P ER1 S AH0 N AH0 L AY2 Z D CH AE1 T V OY1 S}\n",
      "Generate done!\n",
      "Get video!\n",
      "10.232.104.204 - - [30/May/2022 09:12:53] \"POST /post HTTP/1.1\" 200 -\n",
      "10.232.104.204 - - [30/May/2022 09:12:55] \"GET /download/response.mp3 HTTP/1.1\" 200 -\n"
     ]
    }
   ],
   "source": [
    "# Run the server now!\n",
    "%cd /workspace/Chater/StyleSpeech/\n",
    "!python server.py"
   ]
  },
  {
   "cell_type": "code",
   "execution_count": null,
   "id": "3cd9d293-4a2d-4c84-bf52-9e798826a088",
   "metadata": {},
   "outputs": [],
   "source": []
  }
 ],
 "metadata": {
  "kernelspec": {
   "display_name": "Python 3 (ipykernel)",
   "language": "python",
   "name": "python3"
  },
  "language_info": {
   "codemirror_mode": {
    "name": "ipython",
    "version": 3
   },
   "file_extension": ".py",
   "mimetype": "text/x-python",
   "name": "python",
   "nbconvert_exporter": "python",
   "pygments_lexer": "ipython3",
   "version": "3.8.8"
  }
 },
 "nbformat": 4,
 "nbformat_minor": 5
}
