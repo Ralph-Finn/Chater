{
 "cells": [
  {
   "cell_type": "markdown",
   "id": "90d99c86-a939-44b7-a9de-cc482f8b6cf3",
   "metadata": {},
   "source": [
    "该程序主要用于安装所有需要的包"
   ]
  },
  {
   "cell_type": "code",
   "execution_count": null,
   "id": "af1ab77b-3a6a-49d4-987a-c30d19895c40",
   "metadata": {},
   "outputs": [],
   "source": [
    "!pip install TTS"
   ]
  },
  {
   "cell_type": "code",
   "execution_count": null,
   "id": "c1e4ee09-a3a1-4221-a5aa-908ee4ae5b06",
   "metadata": {},
   "outputs": [],
   "source": [
    "!pip install pyworld"
   ]
  },
  {
   "cell_type": "code",
   "execution_count": null,
   "id": "bd675f9f-ea36-4736-b11e-eab1ed81b872",
   "metadata": {},
   "outputs": [],
   "source": [
    "!sudo apt install build-essential"
   ]
  },
  {
   "cell_type": "code",
   "execution_count": null,
   "id": "09d786ea-d1c3-4372-a007-911ce0abcfe4",
   "metadata": {},
   "outputs": [],
   "source": [
    "!pip install --upgrade pip setuptools wheel"
   ]
  },
  {
   "cell_type": "code",
   "execution_count": 1,
   "id": "ae5cb10a-3055-47fa-9b1f-cd42cd1da5af",
   "metadata": {},
   "outputs": [
    {
     "name": "stdout",
     "output_type": "stream",
     "text": [
      "Requirement already satisfied: numpy in /opt/conda/lib/python3.8/site-packages (1.19.5)\n",
      "Collecting numpy\n",
      "  Downloading numpy-1.22.3-cp38-cp38-manylinux_2_17_x86_64.manylinux2014_x86_64.whl (16.8 MB)\n",
      "\u001b[2K     \u001b[90m━━━━━━━━━━━━━━━━━━━━━━━━━━━━━━━━━━━━━━━━\u001b[0m \u001b[32m16.8/16.8 MB\u001b[0m \u001b[31m1.8 MB/s\u001b[0m eta \u001b[36m0:00:00\u001b[0m00:01\u001b[0m00:01\u001b[0m\n",
      "\u001b[?25hInstalling collected packages: numpy\n",
      "  Attempting uninstall: numpy\n",
      "    Found existing installation: numpy 1.19.5\n",
      "    Uninstalling numpy-1.19.5:\n",
      "      Successfully uninstalled numpy-1.19.5\n",
      "\u001b[31mERROR: pip's dependency resolver does not currently take into account all the packages that are installed. This behaviour is the source of the following dependency conflicts.\n",
      "tts 0.6.2 requires numpy==1.19.5, but you have numpy 1.22.3 which is incompatible.\u001b[0m\u001b[31m\n",
      "\u001b[0mSuccessfully installed numpy-1.22.3\n",
      "\u001b[33mWARNING: Running pip as the 'root' user can result in broken permissions and conflicting behaviour with the system package manager. It is recommended to use a virtual environment instead: https://pip.pypa.io/warnings/venv\u001b[0m\u001b[33m\n",
      "\u001b[0m"
     ]
    }
   ],
   "source": [
    "!pip install --upgrade numpy"
   ]
  },
  {
   "cell_type": "code",
   "execution_count": 5,
   "id": "f0866b39-a6c1-42b1-8a8f-db4a7801e8b4",
   "metadata": {},
   "outputs": [
    {
     "name": "stdout",
     "output_type": "stream",
     "text": [
      "Hit:1 http://archive.ubuntu.com/ubuntu bionic InRelease\n",
      "Get:2 http://security.ubuntu.com/ubuntu bionic-security InRelease [88.7 kB]\n",
      "Get:3 http://archive.ubuntu.com/ubuntu bionic-updates InRelease [88.7 kB]      \u001b[0m\n",
      "Get:4 http://archive.ubuntu.com/ubuntu bionic-backports InRelease [74.6 kB]    \u001b[0m\u001b[33m\u001b[33m\u001b[33m\u001b[33m\n",
      "Get:5 http://security.ubuntu.com/ubuntu bionic-security/restricted amd64 Packages [921 kB]\n",
      "Get:6 http://archive.ubuntu.com/ubuntu bionic-updates/universe amd64 Packages [2277 kB]\n",
      "Get:7 http://security.ubuntu.com/ubuntu bionic-security/main amd64 Packages [2747 kB]33m\n",
      "Get:8 http://archive.ubuntu.com/ubuntu bionic-updates/restricted amd64 Packages [966 kB]\n",
      "Get:9 http://archive.ubuntu.com/ubuntu bionic-updates/main amd64 Packages [3195 kB]\u001b[33m\n",
      "Get:10 http://security.ubuntu.com/ubuntu bionic-security/universe amd64 Packages [1501 kB]\n",
      "Fetched 11.9 MB in 2s (4943 kB/s)                          \u001b[0m[33m            \u001b[0m\u001b[33m\u001b[33m\u001b[33m\u001b[33m\u001b[33m\u001b[33m\n",
      "Reading package lists... Done\n",
      "Building dependency tree       \n",
      "Reading state information... Done\n",
      "35 packages can be upgraded. Run 'apt list --upgradable' to see them.\n"
     ]
    }
   ],
   "source": [
    " !apt update"
   ]
  },
  {
   "cell_type": "code",
   "execution_count": 9,
   "id": "ae692728-1ebf-41bb-8b16-fcb9b974f380",
   "metadata": {},
   "outputs": [
    {
     "name": "stdout",
     "output_type": "stream",
     "text": [
      "Reading package lists... Done\n",
      "Building dependency tree       \n",
      "Reading state information... Done\n",
      "Note, selecting 'libsndfile1-dev' instead of 'libsndfile-dev'\n",
      "gcc is already the newest version (4:7.4.0-1ubuntu2.3).\n",
      "gcc set to manually installed.\n",
      "The following additional packages will be installed:\n",
      "  apt krb5-locales libapt-inst2.0 libapt-pkg5.0 libflac-dev libflac8\n",
      "  libglib2.0-0 libglib2.0-data libgssapi-krb5-2 libicu60 libk5crypto3\n",
      "  libkeyutils1 libkrb5-3 libkrb5support0 libogg-dev libogg0 libpq5 libsndfile1\n",
      "  libvorbis-dev libvorbis0a libvorbisenc2 libvorbisfile3 libxml2 pkg-config\n",
      "  shared-mime-info xdg-user-dirs\n",
      "Suggested packages:\n",
      "  apt-doc aptitude | synaptic | wajig powermgmt-base krb5-doc krb5-user\n",
      "  postgresql-doc-10\n",
      "The following NEW packages will be installed:\n",
      "  apt-utils krb5-locales libapt-inst2.0 libflac-dev libflac8 libglib2.0-0\n",
      "  libglib2.0-data libgssapi-krb5-2 libicu60 libk5crypto3 libkeyutils1\n",
      "  libkrb5-3 libkrb5support0 libogg-dev libogg0 libpq-dev libpq5 libsndfile1\n",
      "  libsndfile1-dev libvorbis-dev libvorbis0a libvorbisenc2 libvorbisfile3\n",
      "  libxml2 pkg-config shared-mime-info xdg-user-dirs\n",
      "The following packages will be upgraded:\n",
      "  apt libapt-pkg5.0\n",
      "2 upgraded, 27 newly installed, 0 to remove and 33 not upgraded.\n",
      "Need to get 15.2 MB of archives.\n",
      "After this operation, 52.5 MB of additional disk space will be used.\n",
      "Get:1 http://archive.ubuntu.com/ubuntu bionic-updates/main amd64 libapt-pkg5.0 amd64 1.6.14 [809 kB]\n",
      "Get:2 http://archive.ubuntu.com/ubuntu bionic-updates/main amd64 apt amd64 1.6.14 [1207 kB]\n",
      "Get:3 http://archive.ubuntu.com/ubuntu bionic/main amd64 libogg0 amd64 1.3.2-1 [17.2 kB]\n",
      "Get:4 http://archive.ubuntu.com/ubuntu bionic-updates/main amd64 libapt-inst2.0 amd64 1.6.14 [57.3 kB]\n",
      "Get:5 http://archive.ubuntu.com/ubuntu bionic-updates/main amd64 apt-utils amd64 1.6.14 [209 kB]\n",
      "Get:6 http://archive.ubuntu.com/ubuntu bionic-updates/main amd64 libglib2.0-0 amd64 2.56.4-0ubuntu0.18.04.9 [1169 kB]\n",
      "Get:7 http://archive.ubuntu.com/ubuntu bionic-updates/main amd64 libglib2.0-data all 2.56.4-0ubuntu0.18.04.9 [4728 B]\n",
      "Get:8 http://archive.ubuntu.com/ubuntu bionic-updates/main amd64 libicu60 amd64 60.2-3ubuntu3.2 [8050 kB]\n",
      "Get:9 http://archive.ubuntu.com/ubuntu bionic-updates/main amd64 libxml2 amd64 2.9.4+dfsg1-6.1ubuntu1.5 [663 kB]\n",
      "Get:10 http://archive.ubuntu.com/ubuntu bionic/main amd64 shared-mime-info amd64 1.9-2 [426 kB]\n",
      "Get:11 http://archive.ubuntu.com/ubuntu bionic/main amd64 xdg-user-dirs amd64 0.17-1ubuntu1 [48.0 kB]\n",
      "Get:12 http://archive.ubuntu.com/ubuntu bionic-updates/main amd64 krb5-locales all 1.16-2ubuntu0.2 [13.4 kB]\n",
      "Get:13 http://archive.ubuntu.com/ubuntu bionic-updates/main amd64 libkrb5support0 amd64 1.16-2ubuntu0.2 [30.8 kB]\n",
      "Get:14 http://archive.ubuntu.com/ubuntu bionic-updates/main amd64 libk5crypto3 amd64 1.16-2ubuntu0.2 [85.5 kB]\n",
      "Get:15 http://archive.ubuntu.com/ubuntu bionic-updates/main amd64 libkeyutils1 amd64 1.5.9-9.2ubuntu2.1 [8764 B]\n",
      "Get:16 http://archive.ubuntu.com/ubuntu bionic-updates/main amd64 libkrb5-3 amd64 1.16-2ubuntu0.2 [279 kB]\n",
      "Get:17 http://archive.ubuntu.com/ubuntu bionic-updates/main amd64 libgssapi-krb5-2 amd64 1.16-2ubuntu0.2 [122 kB]\n",
      "Get:18 http://archive.ubuntu.com/ubuntu bionic/main amd64 libflac8 amd64 1.3.2-1 [213 kB]\n",
      "Get:19 http://archive.ubuntu.com/ubuntu bionic/main amd64 libogg-dev amd64 1.3.2-1 [156 kB]\n",
      "Get:20 http://archive.ubuntu.com/ubuntu bionic/main amd64 libflac-dev amd64 1.3.2-1 [260 kB]\n",
      "Get:21 http://archive.ubuntu.com/ubuntu bionic-updates/main amd64 libpq5 amd64 10.20-0ubuntu0.18.04.1 [108 kB]\n",
      "Get:22 http://archive.ubuntu.com/ubuntu bionic-updates/main amd64 libpq-dev amd64 10.20-0ubuntu0.18.04.1 [219 kB]\n",
      "Get:23 http://archive.ubuntu.com/ubuntu bionic/main amd64 libvorbis0a amd64 1.3.5-4.2 [86.4 kB]\n",
      "Get:24 http://archive.ubuntu.com/ubuntu bionic/main amd64 libvorbisenc2 amd64 1.3.5-4.2 [70.7 kB]\n",
      "Get:25 http://archive.ubuntu.com/ubuntu bionic-updates/main amd64 libsndfile1 amd64 1.0.28-4ubuntu0.18.04.2 [170 kB]\n",
      "Get:26 http://archive.ubuntu.com/ubuntu bionic/main amd64 pkg-config amd64 0.29.1-0ubuntu2 [45.0 kB]\n",
      "Get:27 http://archive.ubuntu.com/ubuntu bionic/main amd64 libvorbisfile3 amd64 1.3.5-4.2 [16.0 kB]\n",
      "Get:28 http://archive.ubuntu.com/ubuntu bionic/main amd64 libvorbis-dev amd64 1.3.5-4.2 [321 kB]\n",
      "Get:29 http://archive.ubuntu.com/ubuntu bionic-updates/main amd64 libsndfile1-dev amd64 1.0.28-4ubuntu0.18.04.2 [287 kB]\n",
      "Fetched 15.2 MB in 1s (14.8 MB/s)        \n",
      "debconf: delaying package configuration, since apt-utils is not installed\n",
      "(Reading database ... 10158 files and directories currently installed.)\n",
      "Preparing to unpack .../libapt-pkg5.0_1.6.14_amd64.deb ...\n",
      "Unpacking libapt-pkg5.0:amd64 (1.6.14) over (1.6.12ubuntu0.2) ...\n",
      "Setting up libapt-pkg5.0:amd64 (1.6.14) ...\n",
      "(Reading database ... 10158 files and directories currently installed.)\n",
      "Preparing to unpack .../archives/apt_1.6.14_amd64.deb ...\n",
      "Unpacking apt (1.6.14) over (1.6.12ubuntu0.2) ...\n",
      "Setting up apt (1.6.14) ...\n",
      "Selecting previously unselected package libogg0:amd64.\n",
      "(Reading database ... 10158 files and directories currently installed.)\n",
      "Preparing to unpack .../00-libogg0_1.3.2-1_amd64.deb ...\n",
      "Unpacking libogg0:amd64 (1.3.2-1) ...\n",
      "Selecting previously unselected package libapt-inst2.0:amd64.\n",
      "Preparing to unpack .../01-libapt-inst2.0_1.6.14_amd64.deb ...\n",
      "Unpacking libapt-inst2.0:amd64 (1.6.14) ...\n",
      "Selecting previously unselected package apt-utils.\n",
      "Preparing to unpack .../02-apt-utils_1.6.14_amd64.deb ...\n",
      "Unpacking apt-utils (1.6.14) ...\n",
      "Selecting previously unselected package libglib2.0-0:amd64.\n",
      "Preparing to unpack .../03-libglib2.0-0_2.56.4-0ubuntu0.18.04.9_amd64.deb ...\n",
      "Unpacking libglib2.0-0:amd64 (2.56.4-0ubuntu0.18.04.9) ...\n",
      "Selecting previously unselected package libglib2.0-data.\n",
      "Preparing to unpack .../04-libglib2.0-data_2.56.4-0ubuntu0.18.04.9_all.deb ...\n",
      "Unpacking libglib2.0-data (2.56.4-0ubuntu0.18.04.9) ...\n",
      "Selecting previously unselected package libicu60:amd64.\n",
      "Preparing to unpack .../05-libicu60_60.2-3ubuntu3.2_amd64.deb ...\n",
      "Unpacking libicu60:amd64 (60.2-3ubuntu3.2) ...\n",
      "Selecting previously unselected package libxml2:amd64.\n",
      "Preparing to unpack .../06-libxml2_2.9.4+dfsg1-6.1ubuntu1.5_amd64.deb ...\n",
      "Unpacking libxml2:amd64 (2.9.4+dfsg1-6.1ubuntu1.5) ...\n",
      "Selecting previously unselected package shared-mime-info.\n",
      "Preparing to unpack .../07-shared-mime-info_1.9-2_amd64.deb ...\n",
      "Unpacking shared-mime-info (1.9-2) ...\n",
      "Selecting previously unselected package xdg-user-dirs.\n",
      "Preparing to unpack .../08-xdg-user-dirs_0.17-1ubuntu1_amd64.deb ...\n",
      "Unpacking xdg-user-dirs (0.17-1ubuntu1) ...\n",
      "Selecting previously unselected package krb5-locales.\n",
      "Preparing to unpack .../09-krb5-locales_1.16-2ubuntu0.2_all.deb ...\n",
      "Unpacking krb5-locales (1.16-2ubuntu0.2) ...\n",
      "Selecting previously unselected package libkrb5support0:amd64.\n",
      "Preparing to unpack .../10-libkrb5support0_1.16-2ubuntu0.2_amd64.deb ...\n",
      "Unpacking libkrb5support0:amd64 (1.16-2ubuntu0.2) ...\n",
      "Selecting previously unselected package libk5crypto3:amd64.\n",
      "Preparing to unpack .../11-libk5crypto3_1.16-2ubuntu0.2_amd64.deb ...\n",
      "Unpacking libk5crypto3:amd64 (1.16-2ubuntu0.2) ...\n",
      "Selecting previously unselected package libkeyutils1:amd64.\n",
      "Preparing to unpack .../12-libkeyutils1_1.5.9-9.2ubuntu2.1_amd64.deb ...\n",
      "Unpacking libkeyutils1:amd64 (1.5.9-9.2ubuntu2.1) ...\n",
      "Selecting previously unselected package libkrb5-3:amd64.\n",
      "Preparing to unpack .../13-libkrb5-3_1.16-2ubuntu0.2_amd64.deb ...\n",
      "Unpacking libkrb5-3:amd64 (1.16-2ubuntu0.2) ...\n",
      "Selecting previously unselected package libgssapi-krb5-2:amd64.\n",
      "Preparing to unpack .../14-libgssapi-krb5-2_1.16-2ubuntu0.2_amd64.deb ...\n",
      "Unpacking libgssapi-krb5-2:amd64 (1.16-2ubuntu0.2) ...\n",
      "Selecting previously unselected package libflac8:amd64.\n",
      "Preparing to unpack .../15-libflac8_1.3.2-1_amd64.deb ...\n",
      "Unpacking libflac8:amd64 (1.3.2-1) ...\n",
      "Selecting previously unselected package libogg-dev:amd64.\n",
      "Preparing to unpack .../16-libogg-dev_1.3.2-1_amd64.deb ...\n",
      "Unpacking libogg-dev:amd64 (1.3.2-1) ...\n",
      "Selecting previously unselected package libflac-dev:amd64.\n",
      "Preparing to unpack .../17-libflac-dev_1.3.2-1_amd64.deb ...\n",
      "Unpacking libflac-dev:amd64 (1.3.2-1) ...\n",
      "Selecting previously unselected package libpq5:amd64.\n",
      "Preparing to unpack .../18-libpq5_10.20-0ubuntu0.18.04.1_amd64.deb ...\n",
      "Unpacking libpq5:amd64 (10.20-0ubuntu0.18.04.1) ...\n",
      "Selecting previously unselected package libpq-dev.\n",
      "Preparing to unpack .../19-libpq-dev_10.20-0ubuntu0.18.04.1_amd64.deb ...\n",
      "Unpacking libpq-dev (10.20-0ubuntu0.18.04.1) ...\n",
      "Selecting previously unselected package libvorbis0a:amd64.\n",
      "Preparing to unpack .../20-libvorbis0a_1.3.5-4.2_amd64.deb ...\n",
      "Unpacking libvorbis0a:amd64 (1.3.5-4.2) ...\n",
      "Selecting previously unselected package libvorbisenc2:amd64.\n",
      "Preparing to unpack .../21-libvorbisenc2_1.3.5-4.2_amd64.deb ...\n",
      "Unpacking libvorbisenc2:amd64 (1.3.5-4.2) ...\n",
      "Selecting previously unselected package libsndfile1:amd64.\n",
      "Preparing to unpack .../22-libsndfile1_1.0.28-4ubuntu0.18.04.2_amd64.deb ...\n",
      "Unpacking libsndfile1:amd64 (1.0.28-4ubuntu0.18.04.2) ...\n",
      "Selecting previously unselected package pkg-config.\n",
      "Preparing to unpack .../23-pkg-config_0.29.1-0ubuntu2_amd64.deb ...\n",
      "Unpacking pkg-config (0.29.1-0ubuntu2) ...\n",
      "Selecting previously unselected package libvorbisfile3:amd64.\n",
      "Preparing to unpack .../24-libvorbisfile3_1.3.5-4.2_amd64.deb ...\n",
      "Unpacking libvorbisfile3:amd64 (1.3.5-4.2) ...\n",
      "Selecting previously unselected package libvorbis-dev:amd64.\n",
      "Preparing to unpack .../25-libvorbis-dev_1.3.5-4.2_amd64.deb ...\n",
      "Unpacking libvorbis-dev:amd64 (1.3.5-4.2) ...\n",
      "Selecting previously unselected package libsndfile1-dev.\n",
      "Preparing to unpack .../26-libsndfile1-dev_1.0.28-4ubuntu0.18.04.2_amd64.deb ...\n",
      "Unpacking libsndfile1-dev (1.0.28-4ubuntu0.18.04.2) ...\n",
      "Setting up libapt-inst2.0:amd64 (1.6.14) ...\n",
      "Setting up libicu60:amd64 (60.2-3ubuntu3.2) ...\n",
      "Setting up apt-utils (1.6.14) ...\n",
      "Setting up libglib2.0-0:amd64 (2.56.4-0ubuntu0.18.04.9) ...\n",
      "No schema files found: doing nothing.\n",
      "Setting up libkrb5support0:amd64 (1.16-2ubuntu0.2) ...\n",
      "Setting up libxml2:amd64 (2.9.4+dfsg1-6.1ubuntu1.5) ...\n",
      "Setting up libogg0:amd64 (1.3.2-1) ...\n",
      "Setting up pkg-config (0.29.1-0ubuntu2) ...\n",
      "Setting up libglib2.0-data (2.56.4-0ubuntu0.18.04.9) ...\n",
      "Setting up krb5-locales (1.16-2ubuntu0.2) ...\n",
      "Setting up shared-mime-info (1.9-2) ...\n",
      "Setting up libkeyutils1:amd64 (1.5.9-9.2ubuntu2.1) ...\n",
      "Setting up libvorbis0a:amd64 (1.3.5-4.2) ...\n",
      "Setting up libogg-dev:amd64 (1.3.2-1) ...\n",
      "Setting up xdg-user-dirs (0.17-1ubuntu1) ...\n",
      "Setting up libvorbisfile3:amd64 (1.3.5-4.2) ...\n",
      "Setting up libk5crypto3:amd64 (1.16-2ubuntu0.2) ...\n",
      "Setting up libflac8:amd64 (1.3.2-1) ...\n",
      "Setting up libkrb5-3:amd64 (1.16-2ubuntu0.2) ...\n",
      "Setting up libvorbisenc2:amd64 (1.3.5-4.2) ...\n",
      "Setting up libvorbis-dev:amd64 (1.3.5-4.2) ...\n",
      "Setting up libflac-dev:amd64 (1.3.2-1) ...\n",
      "Setting up libgssapi-krb5-2:amd64 (1.16-2ubuntu0.2) ...\n",
      "Setting up libsndfile1:amd64 (1.0.28-4ubuntu0.18.04.2) ...\n",
      "Setting up libpq5:amd64 (10.20-0ubuntu0.18.04.1) ...\n",
      "Setting up libsndfile1-dev (1.0.28-4ubuntu0.18.04.2) ...\n",
      "Setting up libpq-dev (10.20-0ubuntu0.18.04.1) ...\n",
      "Processing triggers for libc-bin (2.27-3ubuntu1.4) ...\n"
     ]
    }
   ],
   "source": [
    "!apt-get -y install apt-utils gcc libpq-dev libsndfile-dev"
   ]
  },
  {
   "cell_type": "code",
   "execution_count": 10,
   "id": "3d7b9cd7-8819-4297-a45a-682dce052f43",
   "metadata": {},
   "outputs": [
    {
     "name": "stdout",
     "output_type": "stream",
     "text": [
      "Collecting pydub\n",
      "  Downloading pydub-0.25.1-py2.py3-none-any.whl (32 kB)\n",
      "Installing collected packages: pydub\n",
      "Successfully installed pydub-0.25.1\n",
      "\u001b[33mWARNING: Running pip as the 'root' user can result in broken permissions and conflicting behaviour with the system package manager. It is recommended to use a virtual environment instead: https://pip.pypa.io/warnings/venv\u001b[0m\u001b[33m\n",
      "\u001b[0m"
     ]
    }
   ],
   "source": [
    "!pip install pydub"
   ]
  },
  {
   "cell_type": "code",
   "execution_count": 11,
   "id": "0b8e0614-36f2-4169-8c19-3e9c44cf6968",
   "metadata": {},
   "outputs": [
    {
     "name": "stdout",
     "output_type": "stream",
     "text": [
      "Collecting g2p_en\n",
      "  Downloading g2p_en-2.1.0-py3-none-any.whl (3.1 MB)\n",
      "\u001b[2K     \u001b[90m━━━━━━━━━━━━━━━━━━━━━━━━━━━━━━━━━━━━━━━━\u001b[0m \u001b[32m3.1/3.1 MB\u001b[0m \u001b[31m11.5 MB/s\u001b[0m eta \u001b[36m0:00:00\u001b[0ma \u001b[36m0:00:01\u001b[0m\n",
      "\u001b[?25hCollecting unidecode\n",
      "  Downloading Unidecode-1.3.4-py3-none-any.whl (235 kB)\n",
      "\u001b[2K     \u001b[90m━━━━━━━━━━━━━━━━━━━━━━━━━━━━━━━━━━━━━━\u001b[0m \u001b[32m235.9/235.9 KB\u001b[0m \u001b[31m54.6 MB/s\u001b[0m eta \u001b[36m0:00:00\u001b[0m\n",
      "\u001b[?25hRequirement already satisfied: scikit-learn in /opt/conda/lib/python3.8/site-packages (1.0.2)\n",
      "Collecting distance>=0.1.3\n",
      "  Downloading Distance-0.1.3.tar.gz (180 kB)\n",
      "\u001b[2K     \u001b[90m━━━━━━━━━━━━━━━━━━━━━━━━━━━━━━━━━━━━━━\u001b[0m \u001b[32m180.3/180.3 KB\u001b[0m \u001b[31m50.8 MB/s\u001b[0m eta \u001b[36m0:00:00\u001b[0m\n",
      "\u001b[?25h  Preparing metadata (setup.py) ... \u001b[?25ldone\n",
      "\u001b[?25hRequirement already satisfied: nltk>=3.2.4 in /opt/conda/lib/python3.8/site-packages (from g2p_en) (3.7)\n",
      "Requirement already satisfied: inflect>=0.3.1 in /opt/conda/lib/python3.8/site-packages (from g2p_en) (5.6.0)\n",
      "Requirement already satisfied: numpy>=1.13.1 in /opt/conda/lib/python3.8/site-packages (from g2p_en) (1.22.3)\n",
      "Requirement already satisfied: scipy>=1.1.0 in /opt/conda/lib/python3.8/site-packages (from scikit-learn) (1.8.0)\n",
      "Requirement already satisfied: threadpoolctl>=2.0.0 in /opt/conda/lib/python3.8/site-packages (from scikit-learn) (3.1.0)\n",
      "Requirement already satisfied: joblib>=0.11 in /opt/conda/lib/python3.8/site-packages (from scikit-learn) (1.1.0)\n",
      "Requirement already satisfied: tqdm in /opt/conda/lib/python3.8/site-packages (from nltk>=3.2.4->g2p_en) (4.51.0)\n",
      "Requirement already satisfied: regex>=2021.8.3 in /opt/conda/lib/python3.8/site-packages (from nltk>=3.2.4->g2p_en) (2022.3.2)\n",
      "Requirement already satisfied: click in /opt/conda/lib/python3.8/site-packages (from nltk>=3.2.4->g2p_en) (8.1.2)\n",
      "Building wheels for collected packages: distance\n",
      "  Building wheel for distance (setup.py) ... \u001b[?25ldone\n",
      "\u001b[?25h  Created wheel for distance: filename=Distance-0.1.3-py3-none-any.whl size=16257 sha256=eba80ecb7a76caeafee6c5a7791d86de3d60e8777e811714bfdf347dee831709\n",
      "  Stored in directory: /root/.cache/pip/wheels/fb/a8/64/6edcab63ec51512a87cacf9b3563c711ad6b7b05d61b704493\n",
      "Successfully built distance\n",
      "Installing collected packages: distance, unidecode, g2p_en\n",
      "Successfully installed distance-0.1.3 g2p_en-2.1.0 unidecode-1.3.4\n",
      "\u001b[33mWARNING: Running pip as the 'root' user can result in broken permissions and conflicting behaviour with the system package manager. It is recommended to use a virtual environment instead: https://pip.pypa.io/warnings/venv\u001b[0m\u001b[33m\n",
      "\u001b[0m\u001b[33mWARNING: You are using pip version 22.0.4; however, version 22.1 is available.\n",
      "You should consider upgrading via the '/opt/conda/bin/python -m pip install --upgrade pip' command.\u001b[0m\u001b[33m\n",
      "\u001b[0m"
     ]
    }
   ],
   "source": [
    "!pip install g2p_en unidecode scikit-learn"
   ]
  },
  {
   "cell_type": "code",
   "execution_count": 2,
   "id": "2868d105-4ae4-47dc-8dc1-ca6e32569fee",
   "metadata": {},
   "outputs": [
    {
     "name": "stdout",
     "output_type": "stream",
     "text": [
      "Collecting torch==1.11.0\n",
      "  Using cached torch-1.11.0-cp38-cp38-manylinux1_x86_64.whl (750.6 MB)\n",
      "Requirement already satisfied: typing-extensions in /opt/conda/lib/python3.8/site-packages (from torch==1.11.0) (3.7.4.3)\n",
      "Installing collected packages: torch\n",
      "  Attempting uninstall: torch\n",
      "    Found existing installation: torch 1.8.1\n",
      "    Uninstalling torch-1.8.1:\n",
      "      Successfully uninstalled torch-1.8.1\n",
      "\u001b[31mERROR: pip's dependency resolver does not currently take into account all the packages that are installed. This behaviour is the source of the following dependency conflicts.\n",
      "tts 0.6.2 requires numpy==1.19.5, but you have numpy 1.22.3 which is incompatible.\u001b[0m\u001b[31m\n",
      "\u001b[0mSuccessfully installed torch-1.11.0\n",
      "\u001b[33mWARNING: Running pip as the 'root' user can result in broken permissions and conflicting behaviour with the system package manager. It is recommended to use a virtual environment instead: https://pip.pypa.io/warnings/venv\u001b[0m\u001b[33m\n",
      "\u001b[0m\u001b[33mWARNING: You are using pip version 22.0.4; however, version 22.1 is available.\n",
      "You should consider upgrading via the '/opt/conda/bin/python -m pip install --upgrade pip' command.\u001b[0m\u001b[33m\n",
      "\u001b[0m"
     ]
    }
   ],
   "source": [
    "!pip install torch==1.11.0"
   ]
  },
  {
   "cell_type": "code",
   "execution_count": 4,
   "id": "3051cf87-2162-4f09-be06-94c38275884a",
   "metadata": {},
   "outputs": [
    {
     "name": "stdout",
     "output_type": "stream",
     "text": [
      "E: Command line option 'Y' [from -Y] is not understood in combination with the other options.\n"
     ]
    }
   ],
   "source": [
    "!apt-get install espeak-ng -Y"
   ]
  },
  {
   "cell_type": "code",
   "execution_count": null,
   "id": "5e02e660-b989-4da1-97b1-de071097b6f4",
   "metadata": {},
   "outputs": [],
   "source": []
  }
 ],
 "metadata": {
  "kernelspec": {
   "display_name": "Python 3 (ipykernel)",
   "language": "python",
   "name": "python3"
  },
  "language_info": {
   "codemirror_mode": {
    "name": "ipython",
    "version": 3
   },
   "file_extension": ".py",
   "mimetype": "text/x-python",
   "name": "python",
   "nbconvert_exporter": "python",
   "pygments_lexer": "ipython3",
   "version": "3.8.8"
  }
 },
 "nbformat": 4,
 "nbformat_minor": 5
}
