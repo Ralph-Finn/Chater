{
 "cells": [
  {
   "cell_type": "markdown",
   "id": "a5bf83e3-5d5e-4916-a17f-d318c867dc34",
   "metadata": {},
   "source": [
    "# Chatbot"
   ]
  },
  {
   "cell_type": "markdown",
   "id": "b1dfd34a-c388-4b17-b376-ab116600acde",
   "metadata": {},
   "source": [
    "## Server Part\n",
    "Pleae just run the mian.ipynb to start the server program. The server is based on flask framework. The server will satrt a HTTP server, and waiting for the connection from client. Once a client is connected with the server, one shoud send a related long speech voice to contumize the TTS,. Then, if one asks a short question, the chatbot will give a response with contumized voice.\n",
    "All the codes about the server are included in \"Chater/StyleSpeech\".\n",
    "* server.py is the package for the main functions of the chatbot.  \n",
    "* ss2.py is the package for costum voice TTS.\n",
    "* chat_anna.py is the package for chatbot response. You are modified the chat.json in \"./data\" to change the QA. \n",
    "* TTS_tools.py is the notebook file for testing some basic function of the hatbot.\n",
    "\n",
    "#### python packege requirement\n",
    "* Pytorch\n",
    "* g2p_en\n",
    "* unicodes\n",
    "* librosa\n",
    "* json\n",
    "\n",
    "Notice:Please to make sure that you can connect to the Google before you running the server."
   ]
  },
  {
   "cell_type": "markdown",
   "id": "16b961cc-4c6d-47fa-8d15-865af6df37b4",
   "metadata": {},
   "source": [
    "# CLinet Part\n",
    "All the files about the Client in PC with microphone equipment are in \"Chater/GUI\". Every time you start the client, you will be required to costumize the chatbot.\n",
    "* Chat_GUI.py is the main file to run the GUI in PC. Tun the file to start the client. \n",
    "* recorder.py is the paclage for voice recording.\n",
    "* poster.py is the package for HTTP connection with the server.\n",
    "\n",
    "#### python packege requirement\n",
    "* pyaudio\n",
    "* wave\n",
    "* tqdm\n",
    "* requests"
   ]
  },
  {
   "cell_type": "markdown",
   "id": "e28eaad6-74ac-4851-8502-ea67ce9f2ba1",
   "metadata": {},
   "source": [
    "## Drawbacks\n",
    "The server is based on flask, which maybe a little slow when transfer vioce file from the client."
   ]
  },
  {
   "cell_type": "code",
   "execution_count": null,
   "id": "c7004ca5-04a0-405e-b191-952907665be8",
   "metadata": {},
   "outputs": [],
   "source": []
  }
 ],
 "metadata": {
  "kernelspec": {
   "display_name": "Python 3 (ipykernel)",
   "language": "python",
   "name": "python3"
  },
  "language_info": {
   "codemirror_mode": {
    "name": "ipython",
    "version": 3
   },
   "file_extension": ".py",
   "mimetype": "text/x-python",
   "name": "python",
   "nbconvert_exporter": "python",
   "pygments_lexer": "ipython3",
   "version": "3.8.8"
  }
 },
 "nbformat": 4,
 "nbformat_minor": 5
}
